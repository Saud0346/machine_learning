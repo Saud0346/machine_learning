{
 "cells": [
  {
   "cell_type": "code",
   "execution_count": 2,
   "id": "552f7884",
   "metadata": {},
   "outputs": [],
   "source": [
    "import numpy as np\n",
    "import pandas as pd\n",
    "from sklearn.preprocessing import StandardScaler\n",
    "from sklearn.model_selection import train_test_split\n",
    "from sklearn import svm\n",
    "from sklearn.metrics import accuracy_score"
   ]
  },
  {
   "cell_type": "code",
   "execution_count": null,
   "id": "95cab3ed",
   "metadata": {},
   "outputs": [],
   "source": [
    "df = pd.read_csv(\"/Users/saudahmad/Desktop/DM_LAB/diabetes.csv\")\n"
   ]
  },
  {
   "cell_type": "code",
   "execution_count": null,
   "id": "fa354df0",
   "metadata": {},
   "outputs": [],
   "source": [
    "df"
   ]
  },
  {
   "cell_type": "code",
   "execution_count": null,
   "id": "552f21ec",
   "metadata": {},
   "outputs": [],
   "source": [
    "df.describe()"
   ]
  },
  {
   "cell_type": "code",
   "execution_count": null,
   "id": "8d783315",
   "metadata": {},
   "outputs": [],
   "source": [
    "df['Outcome'].value_counts()"
   ]
  },
  {
   "cell_type": "code",
   "execution_count": null,
   "id": "008450e4",
   "metadata": {},
   "outputs": [],
   "source": [
    "df.groupby('Outcome').mean()"
   ]
  },
  {
   "cell_type": "code",
   "execution_count": null,
   "id": "0fb65243",
   "metadata": {},
   "outputs": [],
   "source": [
    "data = df.drop(columns = 'Outcome',axis = 1)\n",
    "labels   = df['Outcome']"
   ]
  },
  {
   "cell_type": "code",
   "execution_count": null,
   "id": "0b62c86f",
   "metadata": {},
   "outputs": [],
   "source": [
    "labels"
   ]
  },
  {
   "cell_type": "markdown",
   "id": "6203d977",
   "metadata": {},
   "source": [
    "# Standarization"
   ]
  },
  {
   "cell_type": "code",
   "execution_count": null,
   "id": "5cafd992",
   "metadata": {},
   "outputs": [],
   "source": [
    "scaler = StandardScaler()\n",
    "scaler.fit(data)"
   ]
  },
  {
   "cell_type": "code",
   "execution_count": null,
   "id": "ffe323ec",
   "metadata": {},
   "outputs": [],
   "source": [
    "std_data = scaler.transform(data)\n",
    "data = std_data\n",
    "data"
   ]
  },
  {
   "cell_type": "markdown",
   "id": "f613697d",
   "metadata": {},
   "source": [
    "# Train test split"
   ]
  },
  {
   "cell_type": "code",
   "execution_count": null,
   "id": "44a8ac69",
   "metadata": {},
   "outputs": [],
   "source": [
    "X_train, X_test, Y_train, Y_test =train_test_split(data,labels, test_size=0.2, stratify=labels, random_state=2)"
   ]
  },
  {
   "cell_type": "code",
   "execution_count": null,
   "id": "092abde9",
   "metadata": {},
   "outputs": [],
   "source": [
    "Y_test"
   ]
  },
  {
   "cell_type": "code",
   "execution_count": null,
   "id": "bba37154",
   "metadata": {},
   "outputs": [],
   "source": [
    "print(X_train.shape,X_test.shape,Y_train.shape,Y_test.shape)\n"
   ]
  },
  {
   "cell_type": "markdown",
   "id": "76d38520",
   "metadata": {},
   "source": [
    "# # Now Training the model"
   ]
  },
  {
   "cell_type": "code",
   "execution_count": null,
   "id": "8f9cd581",
   "metadata": {},
   "outputs": [],
   "source": [
    "classifier = svm.SVC(kernel = 'linear')\n",
    "classifier.fit(X_train,Y_train)"
   ]
  },
  {
   "cell_type": "code",
   "execution_count": null,
   "id": "b10243cd",
   "metadata": {},
   "outputs": [],
   "source": [
    "#Accuracy on tarining data\n",
    "X_train_prediction = classifier.predict(X_train)\n",
    "training_data_accuracy = accuracy_score(X_train_prediction,Y_train)\n",
    "training_data_accuracy"
   ]
  },
  {
   "cell_type": "code",
   "execution_count": null,
   "id": "36c0ee79",
   "metadata": {},
   "outputs": [],
   "source": [
    "#Accuracy on testing data\n",
    "X_test_prediction = classifier.predict(X_test)\n",
    "testing_data_accuracy = accuracy_score(X_test_prediction,Y_test)\n",
    "testing_data_accuracy\n"
   ]
  },
  {
   "cell_type": "code",
   "execution_count": null,
   "id": "25654289",
   "metadata": {},
   "outputs": [],
   "source": [
    "input_data = (6,148,72,35,0,33.6,0.627,50)\n",
    "list_items = df.columns\n",
    "\n",
    "#changing the data to numpy array\n",
    "input_data_np = np.asarray(input_data)\n",
    "for i in range(8):\n",
    "    print(list_items[i])\n",
    "    input(input_data_np[i])\n",
    "input_data_reshaped = input_data_np.reshape(1,-1)\n",
    "\n",
    "#Now lets transform the data, because our model is tarined on transformed data\n",
    "input_data_trans = scaler.transform(input_data_reshaped)\n",
    "\n",
    "\n",
    "prediction = classifier.predict(input_data_trans)\n",
    "\n",
    "\n",
    "if prediction == 0:\n",
    "    print(\"Diabetic\")\n",
    "else:\n",
    "    print(\"Non Diabetic\")"
   ]
  }
 ],
 "metadata": {
  "kernelspec": {
   "display_name": "Python 3 (ipykernel)",
   "language": "python",
   "name": "python3"
  },
  "language_info": {
   "codemirror_mode": {
    "name": "ipython",
    "version": 3
   },
   "file_extension": ".py",
   "mimetype": "text/x-python",
   "name": "python",
   "nbconvert_exporter": "python",
   "pygments_lexer": "ipython3",
   "version": "3.11.3"
  }
 },
 "nbformat": 4,
 "nbformat_minor": 5
}
